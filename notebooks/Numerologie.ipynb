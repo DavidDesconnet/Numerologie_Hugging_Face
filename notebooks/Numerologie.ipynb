{
 "cells": [
  {
   "cell_type": "code",
   "execution_count": 31,
   "metadata": {},
   "outputs": [],
   "source": [
    "import ipywidgets as widgets\n",
    "from IPython.display import display, clear_output\n",
    "import datetime\n",
    "from datetime import time\n",
    "import csv\n",
    "import os"
   ]
  },
  {
   "cell_type": "code",
   "execution_count": 32,
   "metadata": {},
   "outputs": [
    {
     "data": {
      "application/vnd.jupyter.widget-view+json": {
       "model_id": "3906723cbe874b728e51311c599b3379",
       "version_major": 2,
       "version_minor": 0
      },
      "text/plain": [
       "VBox(children=(HTML(value=\"<a href='https://www.editions-tredaniel.com/mon-chemin-dame-sur-terre-avec-la-numer…"
      ]
     },
     "execution_count": 32,
     "metadata": {},
     "output_type": "execute_result"
    }
   ],
   "source": [
    "lien_livre_alexandra = widgets.HTML(\n",
    "    value=\"<a href='https://www.editions-tredaniel.com/mon-chemin-dame-sur-terre-avec-la-numerologie-p-10814.html' style='color:#660066'>Méthode et descriptions disponibles dans ce livre.</a>\",\n",
    ")\n",
    "\n",
    "lien_site_alexandra = widgets.HTML(\n",
    "    value=\"<a href='https://desplumesetdesnombres.com/' style='color:#ff9900'>Pour plus d'informations voir le site de l'autrice.</a>\",\n",
    ")\n",
    "\n",
    "widgets.VBox([lien_livre_alexandra, lien_site_alexandra])"
   ]
  },
  {
   "cell_type": "code",
   "execution_count": 33,
   "metadata": {},
   "outputs": [
    {
     "data": {
      "application/vnd.jupyter.widget-view+json": {
       "model_id": "c507f97864994818b2aa5ae8cf79cfee",
       "version_major": 2,
       "version_minor": 0
      },
      "text/plain": [
       "VBox(children=(DatePicker(value=datetime.date(2025, 1, 10), description='Date de naissance :', step=1), TimePi…"
      ]
     },
     "execution_count": 33,
     "metadata": {},
     "output_type": "execute_result"
    }
   ],
   "source": [
    "def f(x):\n",
    "    return x\n",
    "    \n",
    "date_naissance_var = widgets.DatePicker(\n",
    "    description='Date de naissance :',  # Label for the text input\n",
    "    disabled=False,  #  to be editable\n",
    "    value=datetime.date(2025,1,10), # Initial\n",
    ")\n",
    "\n",
    "heure_naissance_var = widgets.TimePicker(\n",
    "    description='Heure de naissance',\n",
    "    disabled=False,  #  to be editable\n",
    "    value=datetime.time(0,0,0), # Initial\n",
    ")\n",
    "\n",
    "prenom_var = widgets.Text(\n",
    "    value='Gabriel',  # Initial \n",
    "    description='Prénom :',  # Label for the text input\n",
    "    disabled=False  #  to be editable\n",
    ")\n",
    "\n",
    "prenom_2_var = widgets.Text(\n",
    "    value='',  # Initial \n",
    "    description='2ème Prénom :',  # Label for the text input\n",
    "    disabled=False  #  to be editable\n",
    ")\n",
    "\n",
    "prenom_3_var = widgets.Text(\n",
    "    value='',  # Initial \n",
    "    description='3ème Prénom :',  # Label for the text input\n",
    "    disabled=False  #  to be editable\n",
    ")\n",
    "\n",
    "nom_var = widgets.Text(\n",
    "    value='Dupont',  # Initial \n",
    "    description='Nom :',  # Label for the text input\n",
    "    disabled=False  #  to be editable\n",
    ")\n",
    "\n",
    "widgets.VBox([date_naissance_var, heure_naissance_var, prenom_var, prenom_2_var, prenom_3_var, nom_var])"
   ]
  },
  {
   "cell_type": "code",
   "execution_count": 34,
   "metadata": {},
   "outputs": [],
   "source": [
    "out = widgets.Output()"
   ]
  },
  {
   "cell_type": "code",
   "execution_count": 44,
   "metadata": {},
   "outputs": [],
   "source": [
    "def chiffres_base(n, b):\n",
    "    \"\"\" Renvoie le tuple des valeurs des chiffres de n en base b, le\n",
    "        chiffre le plus significatif en début de liste\n",
    "    \"\"\"\n",
    "    chiffres = []\n",
    "    while n > 0:\n",
    "        chiffres.append(n % b)\n",
    "        n = n // b\n",
    "    return tuple(reversed(chiffres))\n",
    "\n",
    "def summation_tup(test_tup):\n",
    "    # Convert the tuple to a list using a list comprehension\n",
    "    test = [x for x in test_tup]\n",
    "     \n",
    "    # Find the sum of the elements in the list using the built-in sum() function\n",
    "    return sum(test)\n",
    "\n",
    "def date_reduction(date, L=[]):\n",
    "    if len(L) == 0 or L is None:\n",
    "        L = [1, 2, 3, 4, 5, 6, 7, 8, 9, 11, 22, 33, 44]\n",
    "    result = summation_tup(chiffres_base(date.day,10)) + summation_tup(chiffres_base(date.month,10)) + summation_tup(chiffres_base(date.year,10))\n",
    "    while result not in L :\n",
    "        result = summation_tup(chiffres_base(result,10))\n",
    "    return result\n",
    "\n",
    "def number_reduction(number, L=[]):\n",
    "    if len(L) == 0 or L is None:\n",
    "        L = [0, 1, 2, 3, 4, 5, 6, 7, 8, 9, 11, 22, 33, 44]\n",
    "    result = summation_tup(chiffres_base(number,10))\n",
    "    while result not in L :\n",
    "        result = summation_tup(chiffres_base(result,10))\n",
    "    return result\n",
    "\n",
    "def time_reduction(time, L=[]):\n",
    "    if len(L) == 0 or L is None:\n",
    "        L = [0, 1, 2, 3, 4, 5, 6, 7, 8, 9, 11, 22]\n",
    "    result = summation_tup(chiffres_base(time.hour,10)) + summation_tup(chiffres_base(time.minute,10))\n",
    "    while result not in L :\n",
    "        result = summation_tup(chiffres_base(result,10))\n",
    "    return result"
   ]
  },
  {
   "cell_type": "code",
   "execution_count": 36,
   "metadata": {},
   "outputs": [],
   "source": [
    "def text_conversion(text):\n",
    "    gematria = {\n",
    "        'a' : 1,\n",
    "        'à' : 1,\n",
    "        'â' : 1,\n",
    "        'b' : 2,\n",
    "        'c' : 3,\n",
    "        'ç' : 3,\n",
    "        'd' : 4,\n",
    "        'e' : 5,\n",
    "        'é' : 5,\n",
    "        'è' : 5,\n",
    "        'ê' : 5,\n",
    "        'ë' : 5,\n",
    "        'f' : 6,\n",
    "        'g' : 7,\n",
    "        'h' : 8,\n",
    "        'i' : 9,\n",
    "        'j' : 1,\n",
    "        'k' : 2,\n",
    "        'l' : 3,\n",
    "        'm' : 4,\n",
    "        'n' : 5,\n",
    "        'o' : 6,\n",
    "        'ô' : 6,\n",
    "        'p' : 7,\n",
    "        'q' : 8,\n",
    "        'r' : 9,\n",
    "        's' : 1,\n",
    "        't' : 2,\n",
    "        'u' : 3,\n",
    "        'ù' : 3,\n",
    "        'û' : 3,\n",
    "        'v' : 4,\n",
    "        'w' : 5,\n",
    "        'x' : 6,\n",
    "        'y' : 7,\n",
    "        'z' : 8\n",
    "    }\n",
    "    result = list()\n",
    "    for letter in text:\n",
    "        letter_value = gematria.get(letter.lower(),0)\n",
    "        result.append(letter_value)   \n",
    "    return result\n",
    "\n",
    "def text_reduction(text, L=[]):\n",
    "    if len(L) == 0 or L is None:\n",
    "        L = [0, 1, 2, 3, 4, 5, 6, 7, 8, 9, 11, 22, 33, 44]\n",
    "    result = sum(text_conversion(text))\n",
    "    while result not in L :\n",
    "        result = summation_tup(chiffres_base(result,10))\n",
    "    return result"
   ]
  },
  {
   "cell_type": "code",
   "execution_count": 37,
   "metadata": {},
   "outputs": [],
   "source": [
    "def number_reduction(number):\n",
    "    L = [1, 2, 3, 4, 5, 6, 7, 8, 9, 11, 22, 33, 44]\n",
    "    result = number\n",
    "    while result not in L :\n",
    "        result = summation_tup(chiffres_base(result,10))\n",
    "    return result"
   ]
  },
  {
   "cell_type": "code",
   "execution_count": 38,
   "metadata": {},
   "outputs": [],
   "source": [
    "def voyelles(text):\n",
    "    text = text.lower()\n",
    "    v = 'aeiouy'\n",
    "    result = [l for l in text if l in v]\n",
    "    return result\n",
    "\n",
    "def consonnes(text):\n",
    "    text = text.lower()\n",
    "    v = 'aeiouy'\n",
    "    result = [l for l in text if l not in v]\n",
    "    return result"
   ]
  },
  {
   "cell_type": "code",
   "execution_count": 39,
   "metadata": {},
   "outputs": [
    {
     "data": {
      "application/vnd.jupyter.widget-view+json": {
       "model_id": "e929be364df64e36a6b1b7d513fba6ad",
       "version_major": 2,
       "version_minor": 0
      },
      "text/plain": [
       "VBox(children=(Text(value='/home/gin/Numérologie/resultats_numerologie.csv', description='Emplacement .csv :')…"
      ]
     },
     "execution_count": 39,
     "metadata": {},
     "output_type": "execute_result"
    }
   ],
   "source": [
    "emplacement_var = widgets.Text(\n",
    "    value='/home/gin/Numérologie/resultats_numerologie.csv',  # Initial \n",
    "    description='Emplacement .csv :',  # Label for the text input\n",
    "    disabled=False  #  to be editable\n",
    ")\n",
    "widgets.VBox([emplacement_var])"
   ]
  },
  {
   "cell_type": "code",
   "execution_count": 40,
   "metadata": {},
   "outputs": [],
   "source": [
    "def is_csv_exist(file_path):\n",
    "    return os.path.exists(file_path)"
   ]
  },
  {
   "cell_type": "code",
   "execution_count": 41,
   "metadata": {},
   "outputs": [],
   "source": [
    "btn = widgets.Button(description='Sauvegarder .csv')\n",
    "count = 0\n",
    "def save(emplacement_var, records):\n",
    "    #check if dir exist if not create it\n",
    "    def check_dir(emplacement_var):\n",
    "        directory = os.path.dirname(emplacement_var)\n",
    "        if not os.path.exists(directory):\n",
    "            os.makedirs(directory)\n",
    "\n",
    "    def save(emplacement_var, records):\n",
    "        check_dir(emplacement_var)\n",
    "        if not is_csv_exist(emplacement_var):\n",
    "            headers = [\"Date de naissance\", \"Prénom\", \"Nom\", \"Chemin de vie\", \"Chemin d'expression\", \"Nombre Ressource\", \"Nombre Intime\",\n",
    "                      \"Nombre de Réalisation\", \"Promesse Intime\", \"Nombre Heure de naissance\", \"Nombre Affectif\", \"Nombre de la Créativité et de l'Expression\", \n",
    "                      \"Nombre Actif\", \"Nombre Héréditaire\"]\n",
    "            with open(emplacement_var, 'w+') as f:\n",
    "                writer = csv.writer(f)\n",
    "                writer.writerow(headers)\n",
    "                f.close()\n",
    "        #csv_file = open(emplacement_var,'w+')\n",
    "        csv_file = open(emplacement_var,'a')\n",
    "        csvWriter = csv.writer(csv_file,delimiter=',')\n",
    "        c = 0\n",
    "        for record in records:\n",
    "            csvWriter.writerow(record)\n",
    "            c+=1\n",
    "\n",
    "        print(c, \" record saved to \",emplacement_var)\n",
    "        global count\n",
    "        count = c\n",
    "        csv_file.close()\n",
    "\n",
    "    #directory = os.path.abspath(os.path.join(os.path.curdir))\n",
    "    save(emplacement_var,records)"
   ]
  },
  {
   "cell_type": "code",
   "execution_count": 42,
   "metadata": {},
   "outputs": [],
   "source": [
    "records = []\n",
    "emplacement = ''\n",
    "def on_value_change(change):\n",
    "    date_naissance = date_naissance_var.value\n",
    "    heure_naissance = heure_naissance_var.value\n",
    "    prenom = prenom_var.value\n",
    "    prenom_2 = prenom_2_var.value\n",
    "    prenom_3 = prenom_3_var.value\n",
    "    nom = nom_var.value\n",
    "    global emplacement \n",
    "    emplacement = emplacement_var.value\n",
    "\n",
    "    with out:\n",
    "        # calcul des nombres\n",
    "        chemin_de_vie = date_reduction(date_naissance)\n",
    "        chemin_d_expression = text_reduction(prenom + nom)\n",
    "        nombre_ressource = number_reduction(chemin_de_vie + chemin_d_expression)\n",
    "        nombre_intime = text_reduction(voyelles(prenom) + voyelles(nom))\n",
    "        nombre_de_realisation = text_reduction(consonnes(prenom) + consonnes(nom))\n",
    "        promesse_intime = number_reduction(date_naissance.year)\n",
    "        nombre_heure_naissance = time_reduction(heure_naissance)\n",
    "        nombre_affectif = text_reduction(prenom_2)\n",
    "        nombre_creativite_expression = text_reduction(prenom_3)\n",
    "        nombre_actif = text_reduction(prenom, L=[0, 1, 2, 3, 4, 5, 6, 7, 8, 9, 11, 22])\n",
    "        nombre_hereditaire = text_reduction(nom, L=[0, 1, 2, 3, 4, 5, 6, 7, 8, 9, 11, 22])\n",
    "\n",
    "        clear_output(wait=True)\n",
    "        #print('{}*{}*{}={}'.format(a, b, c, a*b*c))\n",
    "        print('Chemin de vie : ' + str(chemin_de_vie)\n",
    "             + '\\n' + \"Chemin d'expression : \" + str(chemin_d_expression)\n",
    "             + '\\n' + \"Nombre Ressource : \" + str(nombre_ressource)\n",
    "             + '\\n' + \"Nombre Intime : \" + str(nombre_intime)\n",
    "             + '\\n' + \"Nombre de Réalisation : \" + str(nombre_de_realisation)\n",
    "             + '\\n'\n",
    "             + '\\n' + \"Promesse Intime : \" + str(promesse_intime)\n",
    "             + '\\n' + \"Nombre de l'heure de naissance : \" + str(nombre_heure_naissance)\n",
    "             + '\\n'\n",
    "             + '\\n' + \"Nombre Affectif : \" + str(nombre_affectif)\n",
    "             + '\\n' + \"Nombre de la Créativité et de l'Expression : \" + str(nombre_creativite_expression)\n",
    "             + '\\n'\n",
    "             + '\\n' + \"Nombre Actif : \" + str(nombre_actif)\n",
    "             + '\\n' + \"Nombre Héréditaire : \" + str(nombre_hereditaire))\n",
    "        global records\n",
    "        records = [\n",
    "            [date_naissance, prenom, nom, chemin_de_vie, chemin_d_expression, nombre_ressource, nombre_intime, nombre_de_realisation,\n",
    "            promesse_intime, nombre_heure_naissance, nombre_affectif, nombre_creativite_expression, nombre_actif, nombre_hereditaire]\n",
    "        ]\n",
    "\n",
    "date_naissance_var.observe(on_value_change, names=\"value\")\n",
    "heure_naissance_var.observe(on_value_change, names=\"value\")\n",
    "prenom_var.observe(on_value_change, names=\"value\")\n",
    "prenom_2_var.observe(on_value_change, names=\"value\")\n",
    "prenom_3_var.observe(on_value_change, names=\"value\")\n",
    "nom_var.observe(on_value_change, names=\"value\")\n",
    "emplacement_var.observe(on_value_change, names=\"value\")"
   ]
  },
  {
   "cell_type": "code",
   "execution_count": 45,
   "metadata": {},
   "outputs": [
    {
     "data": {
      "application/vnd.jupyter.widget-view+json": {
       "model_id": "59a99c77517d45c1b9184de2cb7a47f7",
       "version_major": 2,
       "version_minor": 0
      },
      "text/plain": [
       "Output()"
      ]
     },
     "execution_count": 45,
     "metadata": {},
     "output_type": "execute_result"
    }
   ],
   "source": [
    "on_value_change(None)\n",
    "out"
   ]
  },
  {
   "cell_type": "code",
   "execution_count": 14,
   "metadata": {},
   "outputs": [],
   "source": [
    "def on_button_clicked(b):\n",
    "    save(emplacement_var.value, records)\n",
    "    with out:\n",
    "        print('\\n', count, \" record saved to \",emplacement_var.value)"
   ]
  },
  {
   "cell_type": "code",
   "execution_count": 15,
   "metadata": {},
   "outputs": [
    {
     "data": {
      "application/vnd.jupyter.widget-view+json": {
       "model_id": "1925138582924c4fb67b68ac0e67c21b",
       "version_major": 2,
       "version_minor": 0
      },
      "text/plain": [
       "VBox(children=(Button(description='Sauvegarder .csv', style=ButtonStyle()),))"
      ]
     },
     "execution_count": 15,
     "metadata": {},
     "output_type": "execute_result"
    }
   ],
   "source": [
    "widgets.VBox([btn])"
   ]
  },
  {
   "cell_type": "code",
   "execution_count": 16,
   "metadata": {},
   "outputs": [],
   "source": [
    "btn.on_click(on_button_clicked)"
   ]
  },
  {
   "cell_type": "code",
   "execution_count": null,
   "metadata": {},
   "outputs": [],
   "source": []
  }
 ],
 "metadata": {
  "kernelspec": {
   "display_name": "Python 3 (ipykernel)",
   "language": "python",
   "name": "python3"
  },
  "language_info": {
   "codemirror_mode": {
    "name": "ipython",
    "version": 3
   },
   "file_extension": ".py",
   "mimetype": "text/x-python",
   "name": "python",
   "nbconvert_exporter": "python",
   "pygments_lexer": "ipython3",
   "version": "3.12.7"
  }
 },
 "nbformat": 4,
 "nbformat_minor": 4
}

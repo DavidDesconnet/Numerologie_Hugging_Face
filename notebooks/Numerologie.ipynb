{
 "cells": [
  {
   "cell_type": "code",
   "execution_count": 135,
   "metadata": {},
   "outputs": [],
   "source": [
    "import ipywidgets as widgets\n",
    "from IPython.display import display, clear_output\n",
    "import datetime\n",
    "from datetime import time, date\n",
    "import csv\n",
    "import os\n",
    "import tabulate"
   ]
  },
  {
   "cell_type": "code",
   "execution_count": 136,
   "metadata": {},
   "outputs": [
    {
     "data": {
      "application/vnd.jupyter.widget-view+json": {
       "model_id": "439eff2c76f3494192def2793ee804a6",
       "version_major": 2,
       "version_minor": 0
      },
      "text/plain": [
       "VBox(children=(HTML(value=\"<a href='https://www.editions-tredaniel.com/mon-chemin-dame-sur-terre-avec-la-numer…"
      ]
     },
     "execution_count": 136,
     "metadata": {},
     "output_type": "execute_result"
    }
   ],
   "source": [
    "lien_livre_alexandra = widgets.HTML(\n",
    "    value=\"<a href='https://www.editions-tredaniel.com/mon-chemin-dame-sur-terre-avec-la-numerologie-p-10814.html' style='color:#660066'>Méthode et descriptions disponibles dans ce livre.</a>\",\n",
    ")\n",
    "\n",
    "lien_oracle_animaux = widgets.HTML(\n",
    "    value=\"<a href='https://www.editions-eyrolles.com/livre/l-oracle-des-animaux-totems-et-leur-nombre-sacre' style='color:#660066'>Pour plus d'informations sur les animaux et leurs nombres.</a>\",\n",
    ")\n",
    "\n",
    "lien_site_alexandra = widgets.HTML(\n",
    "    value=\"<a href='https://desplumesetdesnombres.com/' style='color:#ff9900'>Pour plus d'informations voir le site de l'autrice.</a>\",\n",
    ")\n",
    "\n",
    "widgets.VBox([lien_livre_alexandra, lien_oracle_animaux, lien_site_alexandra])"
   ]
  },
  {
   "cell_type": "code",
   "execution_count": 137,
   "metadata": {},
   "outputs": [
    {
     "data": {
      "application/vnd.jupyter.widget-view+json": {
       "model_id": "6a2d293eaa1c4b47a36f59e3a16b7b3e",
       "version_major": 2,
       "version_minor": 0
      },
      "text/plain": [
       "VBox(children=(DatePicker(value=datetime.date(2025, 1, 10), description='Date de naissance :', step=1, style=D…"
      ]
     },
     "execution_count": 137,
     "metadata": {},
     "output_type": "execute_result"
    }
   ],
   "source": [
    "def f(x):\n",
    "    return x\n",
    "    \n",
    "style = {'description_width': 'initial'}\n",
    "form_item_layout = widgets.Layout(\n",
    "    display='flex',\n",
    "    flex_flow='column',\n",
    "    justify_content='space-between'\n",
    ")\n",
    "\n",
    "date_naissance_var = widgets.DatePicker(\n",
    "    description='Date de naissance :',  # Label for the text input\n",
    "    disabled=False,  #  to be editable\n",
    "    value=datetime.date(2025,1,10), # Initial\n",
    "    style=style\n",
    ")\n",
    "\n",
    "heure_naissance_var = widgets.TimePicker(\n",
    "    description='Heure de naissance :',\n",
    "    disabled=False,  #  to be editable\n",
    "    value=datetime.time(0,0,0), # Initial\n",
    "    style=style\n",
    ")\n",
    "\n",
    "prenom_var = widgets.Text(\n",
    "    value='Gabriel',  # Initial \n",
    "    description='Prénom :',  # Label for the text input\n",
    "    disabled=False,  #  to be editable\n",
    "    style=style\n",
    ")\n",
    "\n",
    "prenom_2_var = widgets.Text(\n",
    "    value='',  # Initial \n",
    "    description='2ème Prénom :',  # Label for the text input\n",
    "    disabled=False,  #  to be editable\n",
    "    style=style\n",
    ")\n",
    "\n",
    "prenom_3_var = widgets.Text(\n",
    "    value='',  # Initial \n",
    "    description='3ème Prénom :',  # Label for the text input\n",
    "    disabled=False,  #  to be editable\n",
    "    style=style\n",
    ")\n",
    "\n",
    "nom_var = widgets.Text(\n",
    "    value='Dupont',  # Initial \n",
    "    description='Nom :',  # Label for the text input\n",
    "    disabled=False,  #  to be editable\n",
    "    style=style\n",
    ")\n",
    "\n",
    "widgets.VBox([date_naissance_var, heure_naissance_var, prenom_var, prenom_2_var, prenom_3_var, nom_var], layout=form_item_layout)"
   ]
  },
  {
   "cell_type": "code",
   "execution_count": 138,
   "metadata": {},
   "outputs": [],
   "source": [
    "out = widgets.Output()"
   ]
  },
  {
   "cell_type": "code",
   "execution_count": 139,
   "metadata": {},
   "outputs": [],
   "source": [
    "def chiffres_base(n, b):\n",
    "    \"\"\" Renvoie le tuple des valeurs des chiffres de n en base b, le\n",
    "        chiffre le plus significatif en début de liste\n",
    "    \"\"\"\n",
    "    chiffres = []\n",
    "    while n > 0:\n",
    "        chiffres.append(n % b)\n",
    "        n = n // b\n",
    "    return tuple(reversed(chiffres))\n",
    "\n",
    "def summation_tup(test_tup):\n",
    "    # Convert the tuple to a list using a list comprehension\n",
    "    test = [x for x in test_tup]\n",
    "     \n",
    "    # Find the sum of the elements in the list using the built-in sum() function\n",
    "    return sum(test)\n",
    "\n",
    "def date_reduction(date, L=[]):\n",
    "    if len(L) == 0 or L is None:\n",
    "        L = [1, 2, 3, 4, 5, 6, 7, 8, 9, 11, 22, 33, 44]\n",
    "    result = summation_tup(chiffres_base(date.day,10)) + summation_tup(chiffres_base(date.month,10)) + summation_tup(chiffres_base(date.year,10))\n",
    "    while result not in L :\n",
    "        result = summation_tup(chiffres_base(result,10))\n",
    "    return result\n",
    "\n",
    "def date_reduction_80(date):\n",
    "    result = summation_tup(chiffres_base(date.day,10)) + summation_tup(chiffres_base(date.month,10)) + summation_tup(chiffres_base(date.year,10))\n",
    "    while result > 80 :\n",
    "        result = summation_tup(chiffres_base(result,10))\n",
    "    return result\n",
    "\n",
    "def number_reduction(number, L=[]):\n",
    "    if len(L) == 0 or L is None:\n",
    "        L = [0, 1, 2, 3, 4, 5, 6, 7, 8, 9, 11, 22, 33, 44]\n",
    "    result = summation_tup(chiffres_base(number,10))\n",
    "    while result not in L :\n",
    "        result = summation_tup(chiffres_base(result,10))\n",
    "    return result\n",
    "\n",
    "def number_reduction_80(number):\n",
    "    result = number\n",
    "    while result > 80 :\n",
    "        result = summation_tup(chiffres_base(result,10))\n",
    "    return result\n",
    "\n",
    "def time_reduction(time, L=[]):\n",
    "    if len(L) == 0 or L is None:\n",
    "        L = [0, 1, 2, 3, 4, 5, 6, 7, 8, 9, 11, 22]\n",
    "    result = summation_tup(chiffres_base(time.hour,10)) + summation_tup(chiffres_base(time.minute,10))\n",
    "    while result not in L :\n",
    "        result = summation_tup(chiffres_base(result,10))\n",
    "    return result"
   ]
  },
  {
   "cell_type": "code",
   "execution_count": 140,
   "metadata": {},
   "outputs": [],
   "source": [
    "def text_conversion(text):\n",
    "    gematria = {\n",
    "        'a' : 1,\n",
    "        'à' : 1,\n",
    "        'â' : 1,\n",
    "        'b' : 2,\n",
    "        'c' : 3,\n",
    "        'ç' : 3,\n",
    "        'd' : 4,\n",
    "        'e' : 5,\n",
    "        'é' : 5,\n",
    "        'è' : 5,\n",
    "        'ê' : 5,\n",
    "        'ë' : 5,\n",
    "        'f' : 6,\n",
    "        'g' : 7,\n",
    "        'h' : 8,\n",
    "        'i' : 9,\n",
    "        'ï' : 9,\n",
    "        'j' : 1,\n",
    "        'k' : 2,\n",
    "        'l' : 3,\n",
    "        'm' : 4,\n",
    "        'n' : 5,\n",
    "        'o' : 6,\n",
    "        'ô' : 6,\n",
    "        'p' : 7,\n",
    "        'q' : 8,\n",
    "        'r' : 9,\n",
    "        's' : 1,\n",
    "        't' : 2,\n",
    "        'u' : 3,\n",
    "        'ù' : 3,\n",
    "        'û' : 3,\n",
    "        'v' : 4,\n",
    "        'w' : 5,\n",
    "        'x' : 6,\n",
    "        'y' : 7,\n",
    "        'z' : 8\n",
    "    }\n",
    "    result = list()\n",
    "    for letter in text:\n",
    "        letter_value = gematria.get(letter.lower(),0)\n",
    "        result.append(letter_value)   \n",
    "    return result\n",
    "\n",
    "def text_reduction(text, L=[]):\n",
    "    if len(L) == 0 or L is None:\n",
    "        L = [0, 1, 2, 3, 4, 5, 6, 7, 8, 9, 11, 22, 33, 44]\n",
    "    result = sum(text_conversion(text))\n",
    "    while result not in L :\n",
    "        result = summation_tup(chiffres_base(result,10))\n",
    "    return result\n",
    "\n",
    "def text_reduction_80(text):\n",
    "    result = sum(text_conversion(text))\n",
    "    while result > 80 :\n",
    "        result = summation_tup(chiffres_base(result,10))\n",
    "    return result"
   ]
  },
  {
   "cell_type": "code",
   "execution_count": 141,
   "metadata": {},
   "outputs": [],
   "source": [
    "def animal_conversion(number):\n",
    "    animals = {\n",
    "        '1' : 'Le lion et le 1 : la loi du triomphe',\n",
    "        '2' : \"Le cygne et le 2 : le miroir de l'âme\",\n",
    "        '3' : \"Le kangourou et le 3 : de l'impulsivité à l'impulsion\",\n",
    "        '4' : 'La tortue et le 4 : la carapace de lumière',\n",
    "        '5' : \"Le lièvre et le 5 : l'abondance providencielle\",\n",
    "        '6' : \"La biche et le 6 : l'enfant retrouvé\",\n",
    "        '7' : \"Le sanglier et le 7 : l'instinct\",\n",
    "        '8' : 'Le hibou et le 8 : au-delà des apparences',\n",
    "        '9' : 'Le paon et le 9 : le champ de tous les possibles',\n",
    "        '10' : 'Le singe et le 10 : la consécration',\n",
    "        '11' : \"Le cerf et le 11 : la noblesse de l'âme\",\n",
    "        '12' : 'Le tigre et le 12 : le feu sacré',\n",
    "        '13' : \"Le guépart et le 13 : l'agilité spirituelle\",\n",
    "        '14' : 'Le chat et le 14 : intuition',\n",
    "        '15' : 'Le chien et le 15 : loyauté',\n",
    "        '16' : 'La souris et le 16 : la légende personnelle',\n",
    "        '17' : \"Le dauphin et le 17 : la symphonie de l'Univers\",\n",
    "        '18' : 'Le héron et le 18 : le temps pour soi',\n",
    "        '19' : \"Le cheval et le 19 : l'alliance parentale\",\n",
    "        '20' : \"L'éléphant et le 20 : humilité\",\n",
    "        '21' : 'La giraphe et le 21 : le monde vivant des défunts',\n",
    "        '22' : 'Le rhinocéros et le 22 : la clef retrouvée',\n",
    "        '23' : \"La cigogne et le 23 : l'âme vagabonde\",\n",
    "        '24' : 'Le crocodile et le 24 : réactivité',\n",
    "        '25' : \"L'hyène et le 25 : la douce folie\",\n",
    "        '26' : 'Le gorille et le 26 : résilience',\n",
    "        '27' : 'La colombe et le 27 : le cadeau de la vie',\n",
    "        '28' : \"La pieuvre et le 28 : contrat d'âmes à âmes\",\n",
    "        '29' : \"L'aigle et le 29 : souveraineté\",\n",
    "        '30' : \"Le taureau et le 30 : l'énergie du désespoir\",\n",
    "        '31' : 'Le canard et le 31 : la quête de sens',\n",
    "        '32' : \"L'abeille et le 32 : le mécanisme divin\",\n",
    "        '33' : \"L'escargot et le 33 : le temple sacré\",\n",
    "        '34' : 'Le bison et le 34 : le parcours du combattant',\n",
    "        '35' : \"La gazelle et le 35 : l'éphémère sublimé\",\n",
    "        '36' : 'La grenouille et le 36 : la source sacrée',\n",
    "        '37' : 'Le loup et le 37 : le royaume ancestral',\n",
    "        '38' : 'Le renard et le 38 : la ruse spirituelle',\n",
    "        '39' : 'La coccinelle et le 39 : le messager céleste',\n",
    "        '40' : 'Le hérisson et le 40 : le goût du risque',\n",
    "        '41' : \"L'écureuil et le 41 : l'honorable richesse\",\n",
    "        '42' : \"L'hippocampe et le 42 : l'art du fantasque\",\n",
    "        '43' : 'La chauve-souris et le 43 : la fabuleuse épouvante',\n",
    "        '44' : 'Le phoque et le 44 : la prophétie mystique',\n",
    "        '45' : 'Le mammouth et le 45 : la mémoire du temps',\n",
    "        '46' : \"L'ours polaire et le 46 : voyage astral\",\n",
    "        '47' : 'Le papillon et le 47 : métamorphose',\n",
    "        '48' : 'La panthère et le 48 : le culte du mystère',\n",
    "        '49' : 'La chouette et le 49 : le radar spirituel',\n",
    "        '50' : 'Le requin et le 50 : le coup de théâtre divin',\n",
    "        '51' : \"Le rat et le 51 : du procès d'intention à celui d'attention\",\n",
    "        '52' : 'Le corbeau et le 52 : un deuil révolutionnaire',\n",
    "        '53' : 'Le zèbre et le 53 : dons extrasensoriels',\n",
    "        '54' : 'Le vautour et le 54 : les reliques divines',\n",
    "        '55' : 'Le serpent et le 55 : lucidité',\n",
    "        '56' : 'Le mouton et le 56 : le sens du collectif',\n",
    "        '57' : 'La brebis et le 57 : le pèlerinage salutaire',\n",
    "        '58' : 'Le panda et le 58 : la guidance intérieure',\n",
    "        '59' : \"L'otarie et le 59 : l'éternel recommencement\",\n",
    "        '60' : \"L'orque et le 60 : la fraternité universelle\",\n",
    "        '61' : 'La licorne et le 61 : le paradis oublié',\n",
    "        '62' : 'Le dragon et le 62 : le souffle de la purification',\n",
    "        '63' : 'La libellule et le 63 : le mirage de la destinée',\n",
    "        '64' : \"Le koala et le 64 : l'amour en retour d'exil\",\n",
    "        '65' : \"L'âne et le 65 : l'impertinente servitude\",\n",
    "        '66' : \"L'araignée et le 66 : le fil d'Ariane\",\n",
    "        '67' : 'Le scarabée et le 67 : votre spiritualité sacrée',\n",
    "        '68' : 'Le caméléon et le 68 : les couleurs de votre âme',\n",
    "        '69' : 'Le pangolin et le 69 : le compromis des mondes parallèles',\n",
    "        '70' : \"Le flamant rose et le 70 : l'élégance de la psyché\",\n",
    "        '71' : 'Le phénix et le 71 : la magie du soi',\n",
    "        '72' : \"L'hippopotame et le 72 : protection\",\n",
    "        '73' : 'Le toucan et le 73 : pondération',\n",
    "        '74' : 'La baleine et le 74 : la convocation céleste',\n",
    "        '75' : \"Le lézard et le 75 : de l'ombre à la lumière\",\n",
    "        '76' : \"La chèvre et le 76 : l'invincible\",\n",
    "        '77' : 'La belette et le 77 : opportunités',\n",
    "        '78' : \"La loutre et le 78 : l'odyssée intérieure\",\n",
    "        '79' : 'Le cochon et le 79 : la belle ingratitude',\n",
    "        '80' : 'Le coq et le 80 : honneur'\n",
    "    }\n",
    "    animal = animals.get(number,'') \n",
    "    return animal"
   ]
  },
  {
   "cell_type": "code",
   "execution_count": 142,
   "metadata": {},
   "outputs": [],
   "source": [
    "def voyelles(text):\n",
    "    text = text.lower()\n",
    "    v = 'aeiouy'\n",
    "    result = [l for l in text if l in v]\n",
    "    return result\n",
    "\n",
    "def consonnes(text):\n",
    "    text = text.lower()\n",
    "    v = 'aeiouy'\n",
    "    result = [l for l in text if l not in v]\n",
    "    return result"
   ]
  },
  {
   "cell_type": "code",
   "execution_count": 143,
   "metadata": {},
   "outputs": [
    {
     "data": {
      "application/vnd.jupyter.widget-view+json": {
       "model_id": "e22d33a154cc4254841c952db33fe0c5",
       "version_major": 2,
       "version_minor": 0
      },
      "text/plain": [
       "VBox(children=(Text(value='/home/gin/Numérologie/resultats_numerologie.csv', description='Emplacement .csv :',…"
      ]
     },
     "execution_count": 143,
     "metadata": {},
     "output_type": "execute_result"
    }
   ],
   "source": [
    "emplacement_var = widgets.Text(\n",
    "    value='/home/gin/Numérologie/resultats_numerologie.csv',  # Initial \n",
    "    description='Emplacement .csv :',  # Label for the text input\n",
    "    disabled=False,  #  to be editable\n",
    "    style=style\n",
    ")\n",
    "widgets.VBox([emplacement_var])"
   ]
  },
  {
   "cell_type": "code",
   "execution_count": 144,
   "metadata": {},
   "outputs": [],
   "source": [
    "def is_csv_exist(file_path):\n",
    "    return os.path.exists(file_path)"
   ]
  },
  {
   "cell_type": "code",
   "execution_count": 145,
   "metadata": {},
   "outputs": [],
   "source": [
    "btn = widgets.Button(description='Sauvegarder .csv')\n",
    "count = 0\n",
    "def save(emplacement_var, records):\n",
    "    #check if dir exist if not create it\n",
    "    def check_dir(emplacement_var):\n",
    "        directory = os.path.dirname(emplacement_var)\n",
    "        if not os.path.exists(directory):\n",
    "            os.makedirs(directory)\n",
    "\n",
    "    def save(emplacement_var, records):\n",
    "        check_dir(emplacement_var)\n",
    "        if not is_csv_exist(emplacement_var):\n",
    "            headers = [\"Date de naissance\", \"Prénom\", \"Nom\", \"Chemin de vie\", \"Chemin d'expression\", \"Nombre Ressource\",\n",
    "                       \"Nombre Intime\", \"Nombre de Réalisation\", \"Promesse Intime\", \"Nombre Heure de naissance\", \"Nombre Affectif\",\n",
    "                       \"Nombre de la Créativité et de l'Expression\", \"Nombre Actif\", \"Nombre Héréditaire\"]\n",
    "            with open(emplacement_var, 'w+') as f:\n",
    "                writer = csv.writer(f)\n",
    "                writer.writerow(headers)\n",
    "                f.close()\n",
    "        #csv_file = open(emplacement_var,'w+')\n",
    "        csv_file = open(emplacement_var,'a')\n",
    "        csvWriter = csv.writer(csv_file,delimiter=',')\n",
    "        c = 0\n",
    "        for record in records:\n",
    "            csvWriter.writerow(record)\n",
    "            c+=1\n",
    "\n",
    "        print(c, \" record saved to \",emplacement_var)\n",
    "        global count\n",
    "        count = c\n",
    "        csv_file.close()\n",
    "\n",
    "    #directory = os.path.abspath(os.path.join(os.path.curdir))\n",
    "    save(emplacement_var,records)"
   ]
  },
  {
   "cell_type": "code",
   "execution_count": 146,
   "metadata": {},
   "outputs": [],
   "source": [
    "def calcul_annee_personnelle(date_naissance_var):\n",
    "    today = date.today()\n",
    "    date_naissance = date_naissance_var.value\n",
    "    date_naissance_this_year = date_naissance.replace(year=today.year)\n",
    "    date_naissance_october_this_year = date_naissance.replace(year=today.year, month=10)\n",
    "    if today < date_naissance_october_this_year:\n",
    "        personal_year = date_reduction(date_naissance_this_year)\n",
    "        begin_date = date_naissance_october_this_year.replace(year=today.year - 1)\n",
    "        end_date = date_naissance_october_this_year.replace(day=date_naissance_this_year.day -1)\n",
    "        result = [personal_year, begin_date, end_date]\n",
    "    else :\n",
    "        personal_year = date_reduction(date_naissance_this_year.replace(year=today.year + 1))\n",
    "        begin_date = date_naissance_october_this_year\n",
    "        end_date = date_naissance_october_this_year.replace(year=today.year + 1, day=date_naissance_this_year.day -1)\n",
    "        result = [personal_year, begin_date, end_date]\n",
    "    return result\n",
    "\n",
    "#print(calcul_annee_personnelle(date_naissance_var))"
   ]
  },
  {
   "cell_type": "code",
   "execution_count": 147,
   "metadata": {},
   "outputs": [],
   "source": [
    "def count_letters(text):\n",
    "    text = text.lower()\n",
    "    cols = 10\n",
    "    result = [0 for _ in range(cols)]\n",
    "    result[0] = ''\n",
    "    result[1] = text.count('a') + text.count('à') + text.count('â') + text.count('j') + text.count('s')\n",
    "    result[2] = text.count('b') + text.count('k') + text.count('t')\n",
    "    result[3] = text.count('c') + text.count('l') + text.count('u') + text.count('ù') + text.count('û')\n",
    "    result[4] = text.count('d') + text.count('m') + text.count('v')\n",
    "    result[5] = text.count('e') + text.count('é') + text.count('è') + text.count('ê')+ text.count('ë') + text.count('n') + text.count('w')\n",
    "    result[6] = text.count('f') + text.count('o') + text.count('ô') + text.count('x')\n",
    "    result[7] = text.count('g') + text.count('p') + text.count('y')\n",
    "    result[8] = text.count('h') + text.count('q') + text.count('z')\n",
    "    result[9] = text.count('i') + text.count('ï') + text.count('r')\n",
    "    return result\n",
    "\n",
    "#print(count_letters('David Desconnet'))\n",
    "\n",
    "def compute_grille_inclusion(prenom, prenom_2, prenom_3, nom):\n",
    "    rows = 4\n",
    "    cols = 10\n",
    "    grille_inclusion = [[0 for _ in range(cols)] for _ in range(rows)]\n",
    "    for i in range(10):\n",
    "        grille_inclusion[0][i] = i\n",
    "    grille_inclusion[0][0] = 'Nombre : '\n",
    "    for i in range(10):\n",
    "        grille_inclusion[1][i] = count_letters(prenom + nom)[i]\n",
    "    for i in range(10):\n",
    "        grille_inclusion[2][i] = count_letters(prenom_2 + prenom_3)[i]\n",
    "    for i in range(10):\n",
    "        grille_inclusion[3][i] = grille_inclusion[1][i] + grille_inclusion[2][i]\n",
    "    grille_inclusion[1][0] = 'Individualité : '\n",
    "    grille_inclusion[2][0] = 'Héritage : '\n",
    "    grille_inclusion[3][0] = 'Résultante : '\n",
    "    return grille_inclusion"
   ]
  },
  {
   "cell_type": "code",
   "execution_count": 148,
   "metadata": {},
   "outputs": [],
   "source": [
    "records = []\n",
    "emplacement = ''\n",
    "\n",
    "def on_value_change(change):\n",
    "    today = date.today()\n",
    "    date_naissance = date_naissance_var.value\n",
    "    heure_naissance = heure_naissance_var.value\n",
    "    prenom = prenom_var.value\n",
    "    prenom_2 = prenom_2_var.value\n",
    "    prenom_3 = prenom_3_var.value\n",
    "    nom = nom_var.value\n",
    "    global emplacement \n",
    "    emplacement = emplacement_var.value\n",
    "\n",
    "    with out:\n",
    "        # calcul des nombres\n",
    "        chemin_de_vie = date_reduction(date_naissance)\n",
    "        chemin_d_expression = text_reduction(prenom + nom)\n",
    "        nombre_ressource = number_reduction(chemin_de_vie + chemin_d_expression)\n",
    "        nombre_intime = text_reduction(voyelles(prenom) + voyelles(nom))\n",
    "        nombre_de_realisation = text_reduction(consonnes(prenom) + consonnes(nom))\n",
    "        promesse_intime = number_reduction(date_naissance.year)\n",
    "        nombre_heure_naissance = time_reduction(heure_naissance)\n",
    "        nombre_affectif = text_reduction(prenom_2)\n",
    "        nombre_creativite_expression = text_reduction(prenom_3)\n",
    "        nombre_actif = text_reduction(prenom, L=[0, 1, 2, 3, 4, 5, 6, 7, 8, 9, 11, 22])\n",
    "        nombre_hereditaire = text_reduction(nom, L=[0, 1, 2, 3, 4, 5, 6, 7, 8, 9, 11, 22])\n",
    "\n",
    "        animal_chemin_de_vie = animal_conversion(str(date_reduction_80(date_naissance)))\n",
    "        animal_chemin_d_expression = animal_conversion(str(text_reduction_80(prenom + nom)))\n",
    "        animal_nombre_ressource = animal_conversion(str(number_reduction_80(chemin_de_vie + chemin_d_expression)))\n",
    "        animal_nombre_intime = animal_conversion(str(text_reduction_80(voyelles(prenom) + voyelles(nom))))\n",
    "        animal_nombre_de_realisation = animal_conversion(str(text_reduction_80(consonnes(prenom) + consonnes(nom))))\n",
    "\n",
    "        annee_universelle = number_reduction(today.year)\n",
    "        annee_personnelle = calcul_annee_personnelle(date_naissance_var)\n",
    "        annee_personnelle_texte = 'Vous êtes en année personnelle ' + str(annee_personnelle[0]) + ' du ' + annee_personnelle[1].strftime('%d/%m/%Y') + ' au ' + annee_personnelle[2].strftime('%d/%m/%Y') + '.'\n",
    "\n",
    "        grille_inclusion = compute_grille_inclusion(prenom, prenom_2, prenom_3, nom)\n",
    "        table_grille_inclusion = tabulate.tabulate(grille_inclusion, tablefmt='html')\n",
    "        \n",
    "        clear_output(wait=True)\n",
    "        print('Nous sommes en année universelle ' + str(annee_universelle) + '.'\n",
    "             + '\\n' + annee_personnelle_texte\n",
    "             + '\\n'\n",
    "             + '\\n' + 'Chemin de vie : ' + str(chemin_de_vie) + ' (' + animal_chemin_de_vie + ')'\n",
    "             + '\\n' + \"Chemin d'expression : \" + str(chemin_d_expression) + ' (' + animal_chemin_d_expression + ')'\n",
    "             + '\\n' + \"Nombre Ressource : \" + str(nombre_ressource) + ' (' + animal_nombre_ressource + ')'\n",
    "             + '\\n' + \"Nombre Intime : \" + str(nombre_intime) + ' (' + animal_nombre_intime + ')'\n",
    "             + '\\n' + \"Nombre de Réalisation : \" + str(nombre_de_realisation) + ' (' + animal_nombre_de_realisation + ')'\n",
    "             + '\\n'\n",
    "             + '\\n' + \"Promesse Intime : \" + str(promesse_intime)\n",
    "             + '\\n' + \"Nombre de l'heure de naissance : \" + str(nombre_heure_naissance)\n",
    "             + '\\n'\n",
    "             + '\\n' + \"Nombre Affectif : \" + str(nombre_affectif)\n",
    "             + '\\n' + \"Nombre de la Créativité et de l'Expression : \" + str(nombre_creativite_expression)\n",
    "             + '\\n'\n",
    "             + '\\n' + \"Nombre Actif : \" + str(nombre_actif)\n",
    "             + '\\n' + \"Nombre Héréditaire : \" + str(nombre_hereditaire)\n",
    "             + '\\n'\n",
    "             + '\\n'\n",
    "             + '\\n' + \"Grille d'Inclusion : \")\n",
    "        display(table_grille_inclusion)\n",
    "        global records\n",
    "        records = [\n",
    "            [date_naissance, prenom, nom, chemin_de_vie, chemin_d_expression, nombre_ressource, nombre_intime, nombre_de_realisation,\n",
    "            promesse_intime, nombre_heure_naissance, nombre_affectif, nombre_creativite_expression, nombre_actif, nombre_hereditaire]\n",
    "        ]\n",
    "\n",
    "date_naissance_var.observe(on_value_change, names=\"value\")\n",
    "heure_naissance_var.observe(on_value_change, names=\"value\")\n",
    "prenom_var.observe(on_value_change, names=\"value\")\n",
    "prenom_2_var.observe(on_value_change, names=\"value\")\n",
    "prenom_3_var.observe(on_value_change, names=\"value\")\n",
    "nom_var.observe(on_value_change, names=\"value\")\n",
    "emplacement_var.observe(on_value_change, names=\"value\")"
   ]
  },
  {
   "cell_type": "code",
   "execution_count": 149,
   "metadata": {},
   "outputs": [
    {
     "data": {
      "application/vnd.jupyter.widget-view+json": {
       "model_id": "ae10439eca4b4e6785d4c71cf22203c5",
       "version_major": 2,
       "version_minor": 0
      },
      "text/plain": [
       "Output()"
      ]
     },
     "execution_count": 149,
     "metadata": {},
     "output_type": "execute_result"
    }
   ],
   "source": [
    "on_value_change(None)\n",
    "out"
   ]
  },
  {
   "cell_type": "code",
   "execution_count": 150,
   "metadata": {},
   "outputs": [],
   "source": [
    "def on_button_clicked(b):\n",
    "    save(emplacement_var.value, records)\n",
    "    with out:\n",
    "        print('\\n', count, \" record saved to \",emplacement_var.value)"
   ]
  },
  {
   "cell_type": "code",
   "execution_count": 151,
   "metadata": {},
   "outputs": [
    {
     "data": {
      "application/vnd.jupyter.widget-view+json": {
       "model_id": "046d161f7e7e4effb6b2a2a2c640153e",
       "version_major": 2,
       "version_minor": 0
      },
      "text/plain": [
       "VBox(children=(Button(description='Sauvegarder .csv', style=ButtonStyle()), HTML(value=\"<p style='color:red'>C…"
      ]
     },
     "execution_count": 151,
     "metadata": {},
     "output_type": "execute_result"
    }
   ],
   "source": [
    "warning_save_button = widgets.HTML(\n",
    "    value=\"<p style='color:red'>Ce bouton ne fonctionne qu'en local.</p>\",\n",
    ")\n",
    "widgets.VBox([btn, warning_save_button], layout=form_item_layout)"
   ]
  },
  {
   "cell_type": "code",
   "execution_count": 152,
   "metadata": {},
   "outputs": [],
   "source": [
    "btn.on_click(on_button_clicked)"
   ]
  },
  {
   "cell_type": "code",
   "execution_count": 153,
   "metadata": {},
   "outputs": [
    {
     "data": {
      "application/vnd.jupyter.widget-view+json": {
       "model_id": "79fe3ed5db284d68b270feace0b58c2e",
       "version_major": 2,
       "version_minor": 0
      },
      "text/plain": [
       "VBox(children=(HTML(value=\"<a href='mailto:david.desconnet@gmail.com' style='color:blue'>Si vous rencontrez de…"
      ]
     },
     "execution_count": 153,
     "metadata": {},
     "output_type": "execute_result"
    }
   ],
   "source": [
    "mail_to = widgets.HTML(\n",
    "    value=\"<a href='mailto:david.desconnet@gmail.com' style='color:blue'>Si vous rencontrez des bugs, contactez moi.</a>\",\n",
    ")\n",
    "\n",
    "widgets.VBox([mail_to])"
   ]
  },
  {
   "cell_type": "code",
   "execution_count": null,
   "metadata": {},
   "outputs": [],
   "source": []
  }
 ],
 "metadata": {
  "kernelspec": {
   "display_name": "Python 3 (ipykernel)",
   "language": "python",
   "name": "python3"
  },
  "language_info": {
   "codemirror_mode": {
    "name": "ipython",
    "version": 3
   },
   "file_extension": ".py",
   "mimetype": "text/x-python",
   "name": "python",
   "nbconvert_exporter": "python",
   "pygments_lexer": "ipython3",
   "version": "3.12.7"
  }
 },
 "nbformat": 4,
 "nbformat_minor": 4
}

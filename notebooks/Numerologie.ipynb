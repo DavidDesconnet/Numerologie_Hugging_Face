{
 "cells": [
  {
   "cell_type": "code",
   "execution_count": 2,
   "metadata": {},
   "outputs": [],
   "source": [
    "import ipywidgets as widgets\n",
    "from IPython.display import display, clear_output\n",
    "import datetime\n",
    "import csv\n",
    "import os"
   ]
  },
  {
   "cell_type": "code",
   "execution_count": 3,
   "metadata": {},
   "outputs": [
    {
     "data": {
      "application/vnd.jupyter.widget-view+json": {
       "model_id": "3907c12c57624e1f953a7a780b0792d8",
       "version_major": 2,
       "version_minor": 0
      },
      "text/plain": [
       "VBox(children=(DatePicker(value=datetime.date(2025, 1, 10), description='Date de naissance :'), Text(value='Ga…"
      ]
     },
     "metadata": {},
     "output_type": "display_data"
    }
   ],
   "source": [
    "def f(x):\n",
    "    return x\n",
    "    \n",
    "date_naissance_var = widgets.DatePicker(\n",
    "    description='Date de naissance :',  # Label for the text input\n",
    "    disabled=False,  #  to be editable\n",
    "    value=datetime.date(2025,1,10), # Initial\n",
    ")\n",
    "\n",
    "prenom_var = widgets.Text(\n",
    "    value='Gabriel',  # Initial \n",
    "    description='Prénom :',  # Label for the text input\n",
    "    disabled=False  #  to be editable\n",
    ")\n",
    "\n",
    "nom_var = widgets.Text(\n",
    "    value='Dupont',  # Initial \n",
    "    description='Nom :',  # Label for the text input\n",
    "    disabled=False  #  to be editable\n",
    ")\n",
    "\n",
    "widgets.VBox([date_naissance_var, prenom_var, nom_var])"
   ]
  },
  {
   "cell_type": "code",
   "execution_count": 4,
   "metadata": {},
   "outputs": [],
   "source": [
    "out = widgets.Output()"
   ]
  },
  {
   "cell_type": "code",
   "execution_count": 5,
   "metadata": {},
   "outputs": [],
   "source": [
    "def chiffres_base(n, b):\n",
    "    \"\"\" Renvoie le tuple des valeurs des chiffres de n en base b, le\n",
    "        chiffre le plus significatif en début de liste\n",
    "    \"\"\"\n",
    "    chiffres = []\n",
    "    while n > 0:\n",
    "        chiffres.append(n % b)\n",
    "        n = n // b\n",
    "    return tuple(reversed(chiffres))\n",
    "\n",
    "def summation_tup(test_tup):\n",
    "    # Convert the tuple to a list using a list comprehension\n",
    "    test = [x for x in test_tup]\n",
    "     \n",
    "    # Find the sum of the elements in the list using the built-in sum() function\n",
    "    return sum(test)\n",
    "\n",
    "def date_reduction(date):\n",
    "    L = [1, 2, 3, 4, 5, 6, 7, 8, 9, 11, 22, 33, 44]\n",
    "    result = summation_tup(chiffres_base(date.day,10)) + summation_tup(chiffres_base(date.month,10)) + summation_tup(chiffres_base(date.year,10))\n",
    "    while result not in L :\n",
    "        result = summation_tup(chiffres_base(result,10))\n",
    "    return result"
   ]
  },
  {
   "cell_type": "code",
   "execution_count": 6,
   "metadata": {},
   "outputs": [],
   "source": [
    "def text_conversion(text):\n",
    "    gematria = {\n",
    "        'A' : 1,\n",
    "        'B' : 2,\n",
    "        'C' : 3,\n",
    "        'D' : 4,\n",
    "        'E' : 5,\n",
    "        'F' : 6,\n",
    "        'G' : 7,\n",
    "        'H' : 8,\n",
    "        'I' : 9,\n",
    "        'J' : 1,\n",
    "        'K' : 2,\n",
    "        'L' : 3,\n",
    "        'M' : 4,\n",
    "        'N' : 5,\n",
    "        'O' : 6,\n",
    "        'P' : 7,\n",
    "        'Q' : 8,\n",
    "        'R' : 9,\n",
    "        'S' : 1,\n",
    "        'T' : 2,\n",
    "        'U' : 3,\n",
    "        'V' : 4,\n",
    "        'W' : 5,\n",
    "        'X' : 6,\n",
    "        'Y' : 7,\n",
    "        'Z' : 8\n",
    "    }\n",
    "    result = list()\n",
    "    for letter in text:\n",
    "        letter_value = gematria.get(letter.upper(),0)\n",
    "        result.append(letter_value)   \n",
    "    return result\n",
    "\n",
    "def text_reduction(text):\n",
    "    L = [0, 1, 2, 3, 4, 5, 6, 7, 8, 9, 11, 22, 33, 44]\n",
    "    result = sum(text_conversion(text))\n",
    "    while result not in L :\n",
    "        result = summation_tup(chiffres_base(result,10))\n",
    "    return result"
   ]
  },
  {
   "cell_type": "code",
   "execution_count": 7,
   "metadata": {},
   "outputs": [],
   "source": [
    "def number_reduction(number):\n",
    "    L = [1, 2, 3, 4, 5, 6, 7, 8, 9, 11, 22, 33, 44]\n",
    "    result = number\n",
    "    while result not in L :\n",
    "        result = summation_tup(chiffres_base(result,10))\n",
    "    return result"
   ]
  },
  {
   "cell_type": "code",
   "execution_count": 8,
   "metadata": {},
   "outputs": [],
   "source": [
    "def voyelles(text):\n",
    "    text = text.upper()\n",
    "    v = 'AEIOUY'\n",
    "    result = [l for l in text if l in v]\n",
    "    return result\n",
    "\n",
    "def consonnes(text):\n",
    "    text = text.upper()\n",
    "    v = 'AEIOUY'\n",
    "    result = [l for l in text if l not in v]\n",
    "    return result"
   ]
  },
  {
   "cell_type": "code",
   "execution_count": 9,
   "metadata": {},
   "outputs": [
    {
     "data": {
      "application/vnd.jupyter.widget-view+json": {
       "model_id": "e890af05cc214a8ab0ccf262aadadfd9",
       "version_major": 2,
       "version_minor": 0
      },
      "text/plain": [
       "VBox(children=(Text(value='/home/gin/Numérologie/resultats_numerologie.csv', description='Emplacement .csv :')…"
      ]
     },
     "metadata": {},
     "output_type": "display_data"
    }
   ],
   "source": [
    "emplacement_var = widgets.Text(\n",
    "    value='/home/gin/Numérologie/resultats_numerologie.csv',  # Initial \n",
    "    description='Emplacement .csv :',  # Label for the text input\n",
    "    disabled=False  #  to be editable\n",
    ")\n",
    "widgets.VBox([emplacement_var])"
   ]
  },
  {
   "cell_type": "code",
   "execution_count": 10,
   "metadata": {},
   "outputs": [],
   "source": [
    "def is_csv_exist(file_path):\n",
    "    return os.path.exists(file_path)"
   ]
  },
  {
   "cell_type": "code",
   "execution_count": 11,
   "metadata": {},
   "outputs": [],
   "source": [
    "btn = widgets.Button(description='Sauvegarder .csv')\n",
    "count = 0\n",
    "def save(emplacement_var, records):\n",
    "    #check if dir exist if not create it\n",
    "    def check_dir(emplacement_var):\n",
    "        directory = os.path.dirname(emplacement_var)\n",
    "        if not os.path.exists(directory):\n",
    "            os.makedirs(directory)\n",
    "\n",
    "    def save(emplacement_var, records):\n",
    "        check_dir(emplacement_var)\n",
    "        if not is_csv_exist(emplacement_var):\n",
    "            headers = [\"Date de naissance\", \"Prénom\", \"Nom\", \"Chemin de vie\", \"Chemin d'expression\", \"Nombre Ressource\", \"Nombre Intime\",\n",
    "                      \"Nombre de Réalisation\"]\n",
    "            with open(emplacement_var, 'w+') as f:\n",
    "                writer = csv.writer(f)\n",
    "                writer.writerow(headers)\n",
    "                f.close()\n",
    "        #csv_file = open(emplacement_var,'w+')\n",
    "        csv_file = open(emplacement_var,'a')\n",
    "        csvWriter = csv.writer(csv_file,delimiter=',')\n",
    "        c = 0\n",
    "        for record in records:\n",
    "            csvWriter.writerow(record)\n",
    "            c+=1\n",
    "\n",
    "        print(c, \" record saved to \",emplacement_var)\n",
    "        global count\n",
    "        count = c\n",
    "        csv_file.close()\n",
    "\n",
    "    #directory = os.path.abspath(os.path.join(os.path.curdir))\n",
    "    save(emplacement_var,records)"
   ]
  },
  {
   "cell_type": "code",
   "execution_count": 12,
   "metadata": {},
   "outputs": [],
   "source": [
    "records = []\n",
    "emplacement = ''\n",
    "def on_value_change(change):\n",
    "    date_naissance = date_naissance_var.value\n",
    "    prenom = prenom_var.value\n",
    "    nom = nom_var.value\n",
    "    global emplacement \n",
    "    emplacement = emplacement_var.value\n",
    "\n",
    "    with out:\n",
    "        # calcul des nombres\n",
    "        chemin_de_vie = date_reduction(date_naissance)\n",
    "        chemin_d_expression = text_reduction(prenom + nom)\n",
    "        nombre_ressource = number_reduction(chemin_de_vie + chemin_d_expression)\n",
    "        nombre_intime = text_reduction(voyelles(prenom) + voyelles(nom))\n",
    "        nombre_de_realisation = text_reduction(consonnes(prenom) + consonnes(nom))\n",
    "\n",
    "        clear_output(wait=True)\n",
    "        #print('{}*{}*{}={}'.format(a, b, c, a*b*c))\n",
    "        print('Chemin de vie : ' + str(chemin_de_vie)\n",
    "             + '\\n' + \"Chemin d'expression : \" + str(chemin_d_expression)\n",
    "             + '\\n' + \"Nombre Ressource : \" + str(nombre_ressource)\n",
    "             + '\\n' + \"Nombre Intime : \" + str(nombre_intime)\n",
    "             + '\\n' + \"Nombre de Réalisation : \" + str(nombre_de_realisation))\n",
    "        global records\n",
    "        records = [\n",
    "            [date_naissance, prenom, nom, chemin_de_vie, chemin_d_expression, nombre_ressource, nombre_intime, nombre_de_realisation]\n",
    "        ]\n",
    "\n",
    "date_naissance_var.observe(on_value_change, names=\"value\")\n",
    "prenom_var.observe(on_value_change, names=\"value\")\n",
    "nom_var.observe(on_value_change, names=\"value\")\n",
    "emplacement_var.observe(on_value_change, names=\"value\")"
   ]
  },
  {
   "cell_type": "code",
   "execution_count": 234,
   "metadata": {},
   "outputs": [
    {
     "data": {
      "application/vnd.jupyter.widget-view+json": {
       "model_id": "3b8a9fdafefe4102a1f2d6e6c9697ae5",
       "version_major": 2,
       "version_minor": 0
      },
      "text/plain": [
       "Output(outputs=({'name': 'stdout', 'text': \"Chemin de vie : 33\\nChemin d'expression : 4\\nNombre Ressource : 1\\…"
      ]
     },
     "metadata": {},
     "output_type": "display_data"
    }
   ],
   "source": [
    "on_value_change(None)\n",
    "out"
   ]
  },
  {
   "cell_type": "code",
   "execution_count": 13,
   "metadata": {},
   "outputs": [],
   "source": [
    "def on_button_clicked(b):\n",
    "    save(emplacement_var.value, records)\n",
    "    with out:\n",
    "        print('\\n', count, \" record saved to \",emplacement_var.value)"
   ]
  },
  {
   "cell_type": "code",
   "execution_count": 14,
   "metadata": {},
   "outputs": [
    {
     "data": {
      "application/vnd.jupyter.widget-view+json": {
       "model_id": "0429f9a0bd9f4cd68bded492f340cabc",
       "version_major": 2,
       "version_minor": 0
      },
      "text/plain": [
       "VBox(children=(Button(description='Sauvegarder .csv', style=ButtonStyle()),))"
      ]
     },
     "metadata": {},
     "output_type": "display_data"
    }
   ],
   "source": [
    "widgets.VBox([btn])"
   ]
  },
  {
   "cell_type": "code",
   "execution_count": 15,
   "metadata": {},
   "outputs": [],
   "source": [
    "btn.on_click(on_button_clicked)"
   ]
  },
  {
   "cell_type": "code",
   "execution_count": null,
   "metadata": {},
   "outputs": [],
   "source": []
  }
 ],
 "metadata": {
  "kernelspec": {
   "display_name": "Python 3 (ipykernel)",
   "language": "python",
   "name": "python3"
  },
  "language_info": {
   "codemirror_mode": {
    "name": "ipython",
    "version": 3
   },
   "file_extension": ".py",
   "mimetype": "text/x-python",
   "name": "python",
   "nbconvert_exporter": "python",
   "pygments_lexer": "ipython3",
   "version": "3.12.7"
  }
 },
 "nbformat": 4,
 "nbformat_minor": 4
}

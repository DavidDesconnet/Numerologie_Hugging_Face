{
 "cells": [
  {
   "cell_type": "code",
   "execution_count": 3,
   "metadata": {},
   "outputs": [],
   "source": [
    "import ipywidgets as widgets\n",
    "from IPython.display import display, clear_output\n",
    "import datetime\n",
    "from datetime import time, date\n",
    "import csv\n",
    "import os\n",
    "import tabulate"
   ]
  },
  {
   "cell_type": "code",
   "execution_count": 4,
   "metadata": {},
   "outputs": [
    {
     "data": {
      "application/vnd.jupyter.widget-view+json": {
       "model_id": "3bff34e958704b81b8b050208fff1fc7",
       "version_major": 2,
       "version_minor": 0
      },
      "text/plain": [
       "VBox(children=(HTML(value=\"<a href='https://www.editions-tredaniel.com/mon-chemin-dame-sur-terre-avec-la-numer…"
      ]
     },
     "execution_count": 4,
     "metadata": {},
     "output_type": "execute_result"
    }
   ],
   "source": [
    "lien_livre_alexandra = widgets.HTML(\n",
    "    value=\"<a href='https://www.editions-tredaniel.com/mon-chemin-dame-sur-terre-avec-la-numerologie-p-10814.html' style='color:#660066'>Méthode et descriptions disponibles dans ce livre.</a>\",\n",
    ")\n",
    "\n",
    "lien_site_alexandra = widgets.HTML(\n",
    "    value=\"<a href='https://desplumesetdesnombres.com/' style='color:#ff9900'>Pour plus d'informations voir le site de l'autrice.</a>\",\n",
    ")\n",
    "\n",
    "widgets.VBox([lien_livre_alexandra, lien_site_alexandra])"
   ]
  },
  {
   "cell_type": "code",
   "execution_count": 5,
   "metadata": {},
   "outputs": [
    {
     "data": {
      "application/vnd.jupyter.widget-view+json": {
       "model_id": "1e44c38e919e4d4a9e23f28abe56913e",
       "version_major": 2,
       "version_minor": 0
      },
      "text/plain": [
       "VBox(children=(DatePicker(value=datetime.date(2025, 1, 10), description='Date de naissance :', step=1, style=D…"
      ]
     },
     "execution_count": 5,
     "metadata": {},
     "output_type": "execute_result"
    }
   ],
   "source": [
    "def f(x):\n",
    "    return x\n",
    "    \n",
    "style = {'description_width': 'initial'}\n",
    "form_item_layout = widgets.Layout(\n",
    "    display='flex',\n",
    "    flex_flow='column',\n",
    "    justify_content='space-between'\n",
    ")\n",
    "\n",
    "date_naissance_var = widgets.DatePicker(\n",
    "    description='Date de naissance :',  # Label for the text input\n",
    "    disabled=False,  #  to be editable\n",
    "    value=datetime.date(2025,1,10), # Initial\n",
    "    style=style\n",
    ")\n",
    "\n",
    "heure_naissance_var = widgets.TimePicker(\n",
    "    description='Heure de naissance :',\n",
    "    disabled=False,  #  to be editable\n",
    "    value=datetime.time(0,0,0), # Initial\n",
    "    style=style\n",
    ")\n",
    "\n",
    "prenom_var = widgets.Text(\n",
    "    value='Gabriel',  # Initial \n",
    "    description='Prénom :',  # Label for the text input\n",
    "    disabled=False,  #  to be editable\n",
    "    style=style\n",
    ")\n",
    "\n",
    "prenom_2_var = widgets.Text(\n",
    "    value='',  # Initial \n",
    "    description='2ème Prénom :',  # Label for the text input\n",
    "    disabled=False,  #  to be editable\n",
    "    style=style\n",
    ")\n",
    "\n",
    "prenom_3_var = widgets.Text(\n",
    "    value='',  # Initial \n",
    "    description='3ème Prénom :',  # Label for the text input\n",
    "    disabled=False,  #  to be editable\n",
    "    style=style\n",
    ")\n",
    "\n",
    "nom_var = widgets.Text(\n",
    "    value='Dupont',  # Initial \n",
    "    description='Nom :',  # Label for the text input\n",
    "    disabled=False,  #  to be editable\n",
    "    style=style\n",
    ")\n",
    "\n",
    "widgets.VBox([date_naissance_var, heure_naissance_var, prenom_var, prenom_2_var, prenom_3_var, nom_var], layout=form_item_layout)"
   ]
  },
  {
   "cell_type": "code",
   "execution_count": 6,
   "metadata": {},
   "outputs": [],
   "source": [
    "out = widgets.Output()"
   ]
  },
  {
   "cell_type": "code",
   "execution_count": 7,
   "metadata": {},
   "outputs": [],
   "source": [
    "def chiffres_base(n, b):\n",
    "    \"\"\" Renvoie le tuple des valeurs des chiffres de n en base b, le\n",
    "        chiffre le plus significatif en début de liste\n",
    "    \"\"\"\n",
    "    chiffres = []\n",
    "    while n > 0:\n",
    "        chiffres.append(n % b)\n",
    "        n = n // b\n",
    "    return tuple(reversed(chiffres))\n",
    "\n",
    "def summation_tup(test_tup):\n",
    "    # Convert the tuple to a list using a list comprehension\n",
    "    test = [x for x in test_tup]\n",
    "     \n",
    "    # Find the sum of the elements in the list using the built-in sum() function\n",
    "    return sum(test)\n",
    "\n",
    "def date_reduction(date, L=[]):\n",
    "    if len(L) == 0 or L is None:\n",
    "        L = [1, 2, 3, 4, 5, 6, 7, 8, 9, 11, 22, 33, 44]\n",
    "    result = summation_tup(chiffres_base(date.day,10)) + summation_tup(chiffres_base(date.month,10)) + summation_tup(chiffres_base(date.year,10))\n",
    "    while result not in L :\n",
    "        result = summation_tup(chiffres_base(result,10))\n",
    "    return result\n",
    "\n",
    "def number_reduction(number, L=[]):\n",
    "    if len(L) == 0 or L is None:\n",
    "        L = [0, 1, 2, 3, 4, 5, 6, 7, 8, 9, 11, 22, 33, 44]\n",
    "    result = summation_tup(chiffres_base(number,10))\n",
    "    while result not in L :\n",
    "        result = summation_tup(chiffres_base(result,10))\n",
    "    return result\n",
    "\n",
    "def time_reduction(time, L=[]):\n",
    "    if len(L) == 0 or L is None:\n",
    "        L = [0, 1, 2, 3, 4, 5, 6, 7, 8, 9, 11, 22]\n",
    "    result = summation_tup(chiffres_base(time.hour,10)) + summation_tup(chiffres_base(time.minute,10))\n",
    "    while result not in L :\n",
    "        result = summation_tup(chiffres_base(result,10))\n",
    "    return result"
   ]
  },
  {
   "cell_type": "code",
   "execution_count": 8,
   "metadata": {},
   "outputs": [],
   "source": [
    "def text_conversion(text):\n",
    "    gematria = {\n",
    "        'a' : 1,\n",
    "        'à' : 1,\n",
    "        'â' : 1,\n",
    "        'b' : 2,\n",
    "        'c' : 3,\n",
    "        'ç' : 3,\n",
    "        'd' : 4,\n",
    "        'e' : 5,\n",
    "        'é' : 5,\n",
    "        'è' : 5,\n",
    "        'ê' : 5,\n",
    "        'ë' : 5,\n",
    "        'f' : 6,\n",
    "        'g' : 7,\n",
    "        'h' : 8,\n",
    "        'i' : 9,\n",
    "        'j' : 1,\n",
    "        'k' : 2,\n",
    "        'l' : 3,\n",
    "        'm' : 4,\n",
    "        'n' : 5,\n",
    "        'o' : 6,\n",
    "        'ô' : 6,\n",
    "        'p' : 7,\n",
    "        'q' : 8,\n",
    "        'r' : 9,\n",
    "        's' : 1,\n",
    "        't' : 2,\n",
    "        'u' : 3,\n",
    "        'ù' : 3,\n",
    "        'û' : 3,\n",
    "        'v' : 4,\n",
    "        'w' : 5,\n",
    "        'x' : 6,\n",
    "        'y' : 7,\n",
    "        'z' : 8\n",
    "    }\n",
    "    result = list()\n",
    "    for letter in text:\n",
    "        letter_value = gematria.get(letter.lower(),0)\n",
    "        result.append(letter_value)   \n",
    "    return result\n",
    "\n",
    "def text_reduction(text, L=[]):\n",
    "    if len(L) == 0 or L is None:\n",
    "        L = [0, 1, 2, 3, 4, 5, 6, 7, 8, 9, 11, 22, 33, 44]\n",
    "    result = sum(text_conversion(text))\n",
    "    while result not in L :\n",
    "        result = summation_tup(chiffres_base(result,10))\n",
    "    return result"
   ]
  },
  {
   "cell_type": "code",
   "execution_count": 9,
   "metadata": {},
   "outputs": [],
   "source": [
    "def number_reduction(number):\n",
    "    L = [1, 2, 3, 4, 5, 6, 7, 8, 9, 11, 22, 33, 44]\n",
    "    result = number\n",
    "    while result not in L :\n",
    "        result = summation_tup(chiffres_base(result,10))\n",
    "    return result"
   ]
  },
  {
   "cell_type": "code",
   "execution_count": 10,
   "metadata": {},
   "outputs": [],
   "source": [
    "def voyelles(text):\n",
    "    text = text.lower()\n",
    "    v = 'aeiouy'\n",
    "    result = [l for l in text if l in v]\n",
    "    return result\n",
    "\n",
    "def consonnes(text):\n",
    "    text = text.lower()\n",
    "    v = 'aeiouy'\n",
    "    result = [l for l in text if l not in v]\n",
    "    return result"
   ]
  },
  {
   "cell_type": "code",
   "execution_count": 11,
   "metadata": {},
   "outputs": [
    {
     "data": {
      "application/vnd.jupyter.widget-view+json": {
       "model_id": "ab133246bf914da798fdbe207aea253a",
       "version_major": 2,
       "version_minor": 0
      },
      "text/plain": [
       "VBox(children=(Text(value='/home/gin/Numérologie/resultats_numerologie.csv', description='Emplacement .csv :',…"
      ]
     },
     "execution_count": 11,
     "metadata": {},
     "output_type": "execute_result"
    }
   ],
   "source": [
    "emplacement_var = widgets.Text(\n",
    "    value='/home/gin/Numérologie/resultats_numerologie.csv',  # Initial \n",
    "    description='Emplacement .csv :',  # Label for the text input\n",
    "    disabled=False,  #  to be editable\n",
    "    style=style\n",
    ")\n",
    "widgets.VBox([emplacement_var])"
   ]
  },
  {
   "cell_type": "code",
   "execution_count": 12,
   "metadata": {},
   "outputs": [],
   "source": [
    "def is_csv_exist(file_path):\n",
    "    return os.path.exists(file_path)"
   ]
  },
  {
   "cell_type": "code",
   "execution_count": 13,
   "metadata": {},
   "outputs": [],
   "source": [
    "btn = widgets.Button(description='Sauvegarder .csv')\n",
    "count = 0\n",
    "def save(emplacement_var, records):\n",
    "    #check if dir exist if not create it\n",
    "    def check_dir(emplacement_var):\n",
    "        directory = os.path.dirname(emplacement_var)\n",
    "        if not os.path.exists(directory):\n",
    "            os.makedirs(directory)\n",
    "\n",
    "    def save(emplacement_var, records):\n",
    "        check_dir(emplacement_var)\n",
    "        if not is_csv_exist(emplacement_var):\n",
    "            headers = [\"Date de naissance\", \"Prénom\", \"Nom\", \"Chemin de vie\", \"Chemin d'expression\", \"Nombre Ressource\",\n",
    "                       \"Nombre Intime\", \"Nombre de Réalisation\", \"Promesse Intime\", \"Nombre Heure de naissance\", \"Nombre Affectif\",\n",
    "                       \"Nombre de la Créativité et de l'Expression\", \"Nombre Actif\", \"Nombre Héréditaire\"]\n",
    "            with open(emplacement_var, 'w+') as f:\n",
    "                writer = csv.writer(f)\n",
    "                writer.writerow(headers)\n",
    "                f.close()\n",
    "        #csv_file = open(emplacement_var,'w+')\n",
    "        csv_file = open(emplacement_var,'a')\n",
    "        csvWriter = csv.writer(csv_file,delimiter=',')\n",
    "        c = 0\n",
    "        for record in records:\n",
    "            csvWriter.writerow(record)\n",
    "            c+=1\n",
    "\n",
    "        print(c, \" record saved to \",emplacement_var)\n",
    "        global count\n",
    "        count = c\n",
    "        csv_file.close()\n",
    "\n",
    "    #directory = os.path.abspath(os.path.join(os.path.curdir))\n",
    "    save(emplacement_var,records)"
   ]
  },
  {
   "cell_type": "code",
   "execution_count": 14,
   "metadata": {},
   "outputs": [],
   "source": [
    "def calcul_annee_personnelle(date_naissance_var):\n",
    "    today = date.today()\n",
    "    date_naissance = date_naissance_var.value\n",
    "    date_naissance_this_year = date_naissance.replace(year=today.year)\n",
    "    date_naissance_october_this_year = date_naissance.replace(year=today.year, month=10)\n",
    "    if today < date_naissance_october_this_year:\n",
    "        personal_year = date_reduction(date_naissance_this_year)\n",
    "        begin_date = date_naissance_october_this_year.replace(year=today.year - 1)\n",
    "        end_date = date_naissance_october_this_year.replace(day=date_naissance_this_year.day -1)\n",
    "        result = [personal_year, begin_date, end_date]\n",
    "    else :\n",
    "        personal_year = date_reduction(date_naissance_this_year.replace(year=today.year + 1))\n",
    "        begin_date = date_naissance_october_this_year\n",
    "        end_date = date_naissance_october_this_year.replace(year=today.year + 1, day=date_naissance_this_year.day -1)\n",
    "        result = [personal_year, begin_date, end_date]\n",
    "    return result\n",
    "\n",
    "#print(calcul_annee_personnelle(date_naissance_var))"
   ]
  },
  {
   "cell_type": "code",
   "execution_count": 15,
   "metadata": {},
   "outputs": [],
   "source": [
    "def count_letters(text):\n",
    "    text = text.lower()\n",
    "    cols = 10\n",
    "    result = [0 for _ in range(cols)]\n",
    "    result[0] = ''\n",
    "    result[1] = text.count('a') + text.count('j') + text.count('s')\n",
    "    result[2] = text.count('b') + text.count('k') + text.count('t')\n",
    "    result[3] = text.count('c') + text.count('l') + text.count('u')\n",
    "    result[4] = text.count('d') + text.count('m') + text.count('v')\n",
    "    result[5] = text.count('e') + text.count('n') + text.count('w')\n",
    "    result[6] = text.count('f') + text.count('o') + text.count('x')\n",
    "    result[7] = text.count('g') + text.count('p') + text.count('y')\n",
    "    result[8] = text.count('h') + text.count('q') + text.count('z')\n",
    "    result[9] = text.count('i') + text.count('r')\n",
    "    return result\n",
    "\n",
    "#print(count_letters('David Desconnet'))\n",
    "\n",
    "def compute_grille_inclusion(prenom, prenom_2, prenom_3, nom):\n",
    "    rows = 4\n",
    "    cols = 10\n",
    "    grille_inclusion = [[0 for _ in range(cols)] for _ in range(rows)]\n",
    "    for i in range(10):\n",
    "        grille_inclusion[0][i] = i\n",
    "    grille_inclusion[0][0] = 'Nombre : '\n",
    "    for i in range(10):\n",
    "        grille_inclusion[1][i] = count_letters(prenom + nom)[i]\n",
    "    for i in range(10):\n",
    "        grille_inclusion[2][i] = count_letters(prenom_2 + prenom_3)[i]\n",
    "    for i in range(10):\n",
    "        grille_inclusion[3][i] = grille_inclusion[1][i] + grille_inclusion[2][i]\n",
    "    grille_inclusion[1][0] = 'Individualité : '\n",
    "    grille_inclusion[2][0] = 'Héritage : '\n",
    "    grille_inclusion[3][0] = 'Résultante : '\n",
    "    return grille_inclusion"
   ]
  },
  {
   "cell_type": "code",
   "execution_count": 30,
   "metadata": {},
   "outputs": [],
   "source": [
    "records = []\n",
    "emplacement = ''\n",
    "\n",
    "def on_value_change(change):\n",
    "    today = date.today()\n",
    "    date_naissance = date_naissance_var.value\n",
    "    heure_naissance = heure_naissance_var.value\n",
    "    prenom = prenom_var.value\n",
    "    prenom_2 = prenom_2_var.value\n",
    "    prenom_3 = prenom_3_var.value\n",
    "    nom = nom_var.value\n",
    "    global emplacement \n",
    "    emplacement = emplacement_var.value\n",
    "\n",
    "    with out:\n",
    "        # calcul des nombres\n",
    "        chemin_de_vie = date_reduction(date_naissance)\n",
    "        chemin_d_expression = text_reduction(prenom + nom)\n",
    "        nombre_ressource = number_reduction(chemin_de_vie + chemin_d_expression)\n",
    "        nombre_intime = text_reduction(voyelles(prenom) + voyelles(nom))\n",
    "        nombre_de_realisation = text_reduction(consonnes(prenom) + consonnes(nom))\n",
    "        promesse_intime = number_reduction(date_naissance.year)\n",
    "        nombre_heure_naissance = time_reduction(heure_naissance)\n",
    "        nombre_affectif = text_reduction(prenom_2)\n",
    "        nombre_creativite_expression = text_reduction(prenom_3)\n",
    "        nombre_actif = text_reduction(prenom, L=[0, 1, 2, 3, 4, 5, 6, 7, 8, 9, 11, 22])\n",
    "        nombre_hereditaire = text_reduction(nom, L=[0, 1, 2, 3, 4, 5, 6, 7, 8, 9, 11, 22])\n",
    "\n",
    "        annee_universelle = number_reduction(today.year)\n",
    "        annee_personnelle = calcul_annee_personnelle(date_naissance_var)\n",
    "        annee_personnelle_texte = 'Vous êtes en année personnelle ' + str(annee_personnelle[0]) + ' du ' + annee_personnelle[1].strftime('%d/%m/%Y') + ' au ' + annee_personnelle[2].strftime('%d/%m/%Y') + '.'\n",
    "\n",
    "        grille_inclusion = compute_grille_inclusion(prenom, prenom_2, prenom_3, nom)\n",
    "        table_grille_inclusion = tabulate.tabulate(grille_inclusion, tablefmt='html')\n",
    "        \n",
    "        clear_output(wait=True)\n",
    "        print('Nous sommes en année universelle ' + str(annee_universelle) + '.'\n",
    "             + '\\n' + annee_personnelle_texte\n",
    "             + '\\n' + 'Chemin de vie : ' + str(chemin_de_vie)\n",
    "             + '\\n' + \"Chemin d'expression : \" + str(chemin_d_expression)\n",
    "             + '\\n' + \"Nombre Ressource : \" + str(nombre_ressource)\n",
    "             + '\\n' + \"Nombre Intime : \" + str(nombre_intime)\n",
    "             + '\\n' + \"Nombre de Réalisation : \" + str(nombre_de_realisation)\n",
    "             + '\\n'\n",
    "             + '\\n' + \"Promesse Intime : \" + str(promesse_intime)\n",
    "             + '\\n' + \"Nombre de l'heure de naissance : \" + str(nombre_heure_naissance)\n",
    "             + '\\n'\n",
    "             + '\\n' + \"Nombre Affectif : \" + str(nombre_affectif)\n",
    "             + '\\n' + \"Nombre de la Créativité et de l'Expression : \" + str(nombre_creativite_expression)\n",
    "             + '\\n'\n",
    "             + '\\n' + \"Nombre Actif : \" + str(nombre_actif)\n",
    "             + '\\n' + \"Nombre Héréditaire : \" + str(nombre_hereditaire)\n",
    "             + '\\n'\n",
    "             + '\\n'\n",
    "             + '\\n' + \"Grille d'Inclusion : \")\n",
    "        display(table_grille_inclusion)\n",
    "        global records\n",
    "        records = [\n",
    "            [date_naissance, prenom, nom, chemin_de_vie, chemin_d_expression, nombre_ressource, nombre_intime, nombre_de_realisation,\n",
    "            promesse_intime, nombre_heure_naissance, nombre_affectif, nombre_creativite_expression, nombre_actif, nombre_hereditaire]\n",
    "        ]\n",
    "\n",
    "date_naissance_var.observe(on_value_change, names=\"value\")\n",
    "heure_naissance_var.observe(on_value_change, names=\"value\")\n",
    "prenom_var.observe(on_value_change, names=\"value\")\n",
    "prenom_2_var.observe(on_value_change, names=\"value\")\n",
    "prenom_3_var.observe(on_value_change, names=\"value\")\n",
    "nom_var.observe(on_value_change, names=\"value\")\n",
    "emplacement_var.observe(on_value_change, names=\"value\")"
   ]
  },
  {
   "cell_type": "code",
   "execution_count": 29,
   "metadata": {},
   "outputs": [
    {
     "data": {
      "application/vnd.jupyter.widget-view+json": {
       "model_id": "220a81fc1f494cfd8c86de87ecef3731",
       "version_major": 2,
       "version_minor": 0
      },
      "text/plain": [
       "Output(outputs=({'name': 'stdout', 'text': \"Nous sommes en année universelle 9.\\nVous ête en année personnelle…"
      ]
     },
     "execution_count": 29,
     "metadata": {},
     "output_type": "execute_result"
    }
   ],
   "source": [
    "on_value_change(None)\n",
    "out"
   ]
  },
  {
   "cell_type": "code",
   "execution_count": 22,
   "metadata": {},
   "outputs": [],
   "source": [
    "def on_button_clicked(b):\n",
    "    save(emplacement_var.value, records)\n",
    "    with out:\n",
    "        print('\\n', count, \" record saved to \",emplacement_var.value)"
   ]
  },
  {
   "cell_type": "code",
   "execution_count": 23,
   "metadata": {},
   "outputs": [
    {
     "data": {
      "application/vnd.jupyter.widget-view+json": {
       "model_id": "10ecda8f58f24caea6428ae81aa57478",
       "version_major": 2,
       "version_minor": 0
      },
      "text/plain": [
       "VBox(children=(Button(description='Sauvegarder .csv', style=ButtonStyle()), HTML(value=\"<p style='color:red'>C…"
      ]
     },
     "execution_count": 23,
     "metadata": {},
     "output_type": "execute_result"
    }
   ],
   "source": [
    "warning_save_button = widgets.HTML(\n",
    "    value=\"<p style='color:red'>Ce bouton ne fonctionne qu'en local.</p>\",\n",
    ")\n",
    "widgets.VBox([btn, warning_save_button], layout=form_item_layout)"
   ]
  },
  {
   "cell_type": "code",
   "execution_count": 24,
   "metadata": {},
   "outputs": [],
   "source": [
    "btn.on_click(on_button_clicked)"
   ]
  },
  {
   "cell_type": "code",
   "execution_count": 25,
   "metadata": {},
   "outputs": [
    {
     "data": {
      "application/vnd.jupyter.widget-view+json": {
       "model_id": "c7b6a68c11e54450ac338f0bb07370e1",
       "version_major": 2,
       "version_minor": 0
      },
      "text/plain": [
       "VBox(children=(HTML(value=\"<a href='mailto:david.desconnet@gmail.com' style='color:blue'>Si vous rencontrez de…"
      ]
     },
     "execution_count": 25,
     "metadata": {},
     "output_type": "execute_result"
    }
   ],
   "source": [
    "mail_to = widgets.HTML(\n",
    "    value=\"<a href='mailto:david.desconnet@gmail.com' style='color:blue'>Si vous rencontrez des bugs, contactez moi.</a>\",\n",
    ")\n",
    "\n",
    "widgets.VBox([mail_to])"
   ]
  },
  {
   "cell_type": "code",
   "execution_count": null,
   "metadata": {},
   "outputs": [],
   "source": []
  }
 ],
 "metadata": {
  "kernelspec": {
   "display_name": "Python 3 (ipykernel)",
   "language": "python",
   "name": "python3"
  },
  "language_info": {
   "codemirror_mode": {
    "name": "ipython",
    "version": 3
   },
   "file_extension": ".py",
   "mimetype": "text/x-python",
   "name": "python",
   "nbconvert_exporter": "python",
   "pygments_lexer": "ipython3",
   "version": "3.12.7"
  }
 },
 "nbformat": 4,
 "nbformat_minor": 4
}
